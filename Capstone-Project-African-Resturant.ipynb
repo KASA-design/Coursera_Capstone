{
 "cells": [
  {
   "cell_type": "markdown",
   "metadata": {},
   "source": [
    "## IBM Capstone Project - The Battle of Neighborhoods- The best location for an African restaurant in Calgary, AB Canada"
   ]
  },
  {
   "cell_type": "markdown",
   "metadata": {},
   "source": [
    "# 1. Introduction\n",
    "1.1 Description of the Problem"
   ]
  },
  {
   "cell_type": "markdown",
   "metadata": {},
   "source": [
    "The population of Calgary has grown considerably over the last decades. Calgary is very diverse. The city is expanding, and new communities are being created and built all the time.  As communities increases in Calgary, the number of restaurants is increasing too but not at the same rate as the new communities.\n",
    "\n",
    "Although there are many fine restaurants in Calgary— Asian, Middle Eastern, Latin and American restaurants but its very hard to find good place to dine in the finest of African cuisine that has combination of Nigerian, Ghanaian, Cameroonian, Senegalese and more.\n"
   ]
  },
  {
   "cell_type": "markdown",
   "metadata": {},
   "source": [
    "1.2 Discussion of the Background"
   ]
  },
  {
   "cell_type": "markdown",
   "metadata": {},
   "source": [
    "Due to the increase of Africans immigrating to Calgary, opening an African restaurant in Calgary right now will be very lucrative.  Calgary demography is so big, the available data for demography, communities and ethnicity will be used in determining the best community a new African restaurant should be planted."
   ]
  },
  {
   "cell_type": "markdown",
   "metadata": {},
   "source": [
    "1.3 Target Audience"
   ]
  },
  {
   "cell_type": "markdown",
   "metadata": {},
   "source": [
    "Calgary has a multicultural sense because of its diversity. As such, there is a shortage in the high-end African-inclined restaurant.  The target audience is broad, it ranges from Africans, Caribbean, Calgarians, tourists, and those who are passionate about African food. "
   ]
  }
 ],
 "metadata": {
  "kernelspec": {
   "display_name": "Python",
   "language": "python",
   "name": "conda-env-python-py"
  },
  "language_info": {
   "codemirror_mode": {
    "name": "ipython",
    "version": 3
   },
   "file_extension": ".py",
   "mimetype": "text/x-python",
   "name": "python",
   "nbconvert_exporter": "python",
   "pygments_lexer": "ipython3",
   "version": "3.6.12"
  }
 },
 "nbformat": 4,
 "nbformat_minor": 4
}
